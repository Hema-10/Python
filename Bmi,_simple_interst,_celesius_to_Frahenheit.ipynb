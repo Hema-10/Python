{
  "nbformat": 4,
  "nbformat_minor": 0,
  "metadata": {
    "colab": {
      "provenance": [],
      "authorship_tag": "ABX9TyNcZhzQyVLFSznA2voiIjYA",
      "include_colab_link": true
    },
    "kernelspec": {
      "name": "python3",
      "display_name": "Python 3"
    },
    "language_info": {
      "name": "python"
    }
  },
  "cells": [
    {
      "cell_type": "markdown",
      "metadata": {
        "id": "view-in-github",
        "colab_type": "text"
      },
      "source": [
        "<a href=\"https://colab.research.google.com/github/Hema-10/Python/blob/main/Bmi%2C_simple_interst%2C_celesius_to_Frahenheit.ipynb\" target=\"_parent\"><img src=\"https://colab.research.google.com/assets/colab-badge.svg\" alt=\"Open In Colab\"/></a>"
      ]
    },
    {
      "cell_type": "code",
      "execution_count": null,
      "metadata": {
        "id": "kBm43BQBKWy9"
      },
      "outputs": [],
      "source": [
        "# Function to convert Indian Rupee to US Dollar\n",
        "def inr_to_usd(amount):\n",
        "    return amount / 73.87  # Assuming 1 USD = 73.87 INR (as of 2022)\n",
        "\n",
        "# Function to convert Celsius to Fahrenheit\n",
        "def celsius_to_fahrenheit(celsius):\n",
        "    return (celsius * 9/5) + 32\n",
        "\n",
        "# Function to calculate BMI (Body Mass Index)\n",
        "def calculate_bmi(weight_kg, height_m):\n",
        "    return weight_kg / (height_m ** 2)\n",
        "\n",
        "# Function to calculate Simple Interest\n",
        "def calculate_simple_interest(principal, rate, time):\n",
        "    return (principal * rate * time) / 100\n",
        "\n",
        "# Take input from the user\n",
        "choice = int(input(\"Enter the number corresponding to the function you want to calculate:\\n\"\n",
        "                   \"1. India (Rupee) to US (Dollar) conversion\\n\"\n",
        "                   \"2. Celsius to Fahrenheit\\n\"\n",
        "                   \"3. BMI Calculation\\n\"\n",
        "                   \"4. Simple Interest Calculation\\n\"))\n",
        "\n",
        "if choice == 1:\n",
        "    amount_inr = float(input(\"Enter the amount in Indian Rupee: \"))\n",
        "    print(\"Amount in US Dollar:\", inr_to_usd(amount_inr))\n",
        "elif choice == 2:\n",
        "    celsius = float(input(\"Enter the temperature in Celsius: \"))\n",
        "    print(\"Temperature in Fahrenheit:\", celsius_to_fahrenheit(celsius))\n",
        "elif choice == 3:\n",
        "    weight = float(input(\"Enter your weight in kilograms: \"))\n",
        "    height = float(input(\"Enter your height in meters: \"))\n",
        "    print(\"Your BMI is:\", calculate_bmi(weight, height))\n",
        "elif choice == 4:\n",
        "    principal = float(input(\"Enter the principal amount: \"))\n",
        "    rate = float(input(\"Enter the rate of interest (in percentage): \"))\n",
        "    time = float(input(\"Enter the time period (in years): \"))\n",
        "    print(\"Simple Interest:\", calculate_simple_interest(principal, rate, time))\n",
        "else:\n",
        "    print(\"Invalid choice.\")"
      ]
    }
  ]
}