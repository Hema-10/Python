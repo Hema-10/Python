{
  "nbformat": 4,
  "nbformat_minor": 0,
  "metadata": {
    "colab": {
      "provenance": [],
      "authorship_tag": "ABX9TyNPqb9q42TvjGOvjJ8XUtl0",
      "include_colab_link": true
    },
    "kernelspec": {
      "name": "python3",
      "display_name": "Python 3"
    },
    "language_info": {
      "name": "python"
    }
  },
  "cells": [
    {
      "cell_type": "markdown",
      "metadata": {
        "id": "view-in-github",
        "colab_type": "text"
      },
      "source": [
        "<a href=\"https://colab.research.google.com/github/Hema-10/Python/blob/main/Frequent_elements.ipynb\" target=\"_parent\"><img src=\"https://colab.research.google.com/assets/colab-badge.svg\" alt=\"Open In Colab\"/></a>"
      ]
    },
    {
      "cell_type": "code",
      "execution_count": null,
      "metadata": {
        "id": "72a6Y74_JcQG"
      },
      "outputs": [],
      "source": [
        "# Function to find the most frequent element in the list\n",
        "def most_frequent(lst):\n",
        "    count_dict = {}\n",
        "    for num in lst:\n",
        "        if num in count_dict:\n",
        "            count_dict[num] += 1\n",
        "        else:\n",
        "            count_dict[num] = 1\n",
        "    max_count = 0\n",
        "    most_frequent_element = None\n",
        "    for num, count in count_dict.items():\n",
        "        if count > max_count:\n",
        "            max_count = count\n",
        "            most_frequent_element = num\n",
        "    return most_frequent_element\n",
        "\n",
        "# Take input from the user for the list of numbers\n",
        "numbers = [int(x) for x in input(\"Enter the list of numbers separated by spaces: \").split()]\n",
        "\n",
        "# Find the most frequent element in the list\n",
        "result = most_frequent(numbers)\n",
        "\n",
        "# Print the most frequent element\n",
        "print(\"The most frequent element is:\", result)"
      ]
    }
  ]
}