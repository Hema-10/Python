{
  "nbformat": 4,
  "nbformat_minor": 0,
  "metadata": {
    "colab": {
      "provenance": [],
      "authorship_tag": "ABX9TyMzM/4Eox4oH96qiiyRhiuf",
      "include_colab_link": true
    },
    "kernelspec": {
      "name": "python3",
      "display_name": "Python 3"
    },
    "language_info": {
      "name": "python"
    }
  },
  "cells": [
    {
      "cell_type": "markdown",
      "metadata": {
        "id": "view-in-github",
        "colab_type": "text"
      },
      "source": [
        "<a href=\"https://colab.research.google.com/github/Hema-10/Python/blob/main/0's_and_1's.ipynb\" target=\"_parent\"><img src=\"https://colab.research.google.com/assets/colab-badge.svg\" alt=\"Open In Colab\"/></a>"
      ]
    },
    {
      "cell_type": "code",
      "execution_count": null,
      "metadata": {
        "id": "tem-1kd9K2CN"
      },
      "outputs": [],
      "source": [
        "# Function to rearrange the list with 0s followed by 1s\n",
        "def arrange_zeros_and_ones(input_list):\n",
        "    zeros_count = input_list.count(0)\n",
        "    return [0] * zeros_count + [1] * (len(input_list) - zeros_count)\n",
        "\n",
        "# Take input from the user for the list of numbers\n",
        "input_list = [int(x) for x in input(\"Enter the list of 0s and 1s separated by spaces: \").split()]\n",
        "\n",
        "# Rearrange the list\n",
        "result = arrange_zeros_and_ones(input_list)\n",
        "\n",
        "# Print the rearranged list\n",
        "print(\"Output:\", result)"
      ]
    }
  ]
}